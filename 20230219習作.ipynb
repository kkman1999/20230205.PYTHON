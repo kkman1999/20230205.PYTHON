{
  "nbformat": 4,
  "nbformat_minor": 0,
  "metadata": {
    "colab": {
      "provenance": [],
      "authorship_tag": "ABX9TyPyFAS+Puh/bKyWjTjADa7R",
      "include_colab_link": true
    },
    "kernelspec": {
      "name": "python3",
      "display_name": "Python 3"
    },
    "language_info": {
      "name": "python"
    }
  },
  "cells": [
    {
      "cell_type": "markdown",
      "metadata": {
        "id": "view-in-github",
        "colab_type": "text"
      },
      "source": [
        "<a href=\"https://colab.research.google.com/github/kkman1999/20230205.PYTHON/blob/main/20230219%E7%BF%92%E4%BD%9C.ipynb\" target=\"_parent\"><img src=\"https://colab.research.google.com/assets/colab-badge.svg\" alt=\"Open In Colab\"/></a>"
      ]
    },
    {
      "cell_type": "code",
      "execution_count": null,
      "metadata": {
        "id": "49goqAcCpCRw"
      },
      "outputs": [],
      "source": []
    },
    {
      "cell_type": "code",
      "source": [
        "# hint: 尋找股價最低點\n",
        "df.Close.min()"
      ],
      "metadata": {
        "colab": {
          "base_uri": "https://localhost:8080/",
          "height": 184
        },
        "id": "AHQ0CmlnpgAw",
        "outputId": "323da7de-a336-4861-8f00-940c3a5fca10"
      },
      "execution_count": null,
      "outputs": [
        {
          "output_type": "error",
          "ename": "NameError",
          "evalue": "ignored",
          "traceback": [
            "\u001b[0;31m---------------------------------------------------------------------------\u001b[0m",
            "\u001b[0;31mNameError\u001b[0m                                 Traceback (most recent call last)",
            "\u001b[0;32m<ipython-input-1-5dfa0cfc1232>\u001b[0m in \u001b[0;36m<module>\u001b[0;34m\u001b[0m\n\u001b[1;32m      1\u001b[0m \u001b[0;31m# hint: 尋找股價最低點\u001b[0m\u001b[0;34m\u001b[0m\u001b[0;34m\u001b[0m\u001b[0;34m\u001b[0m\u001b[0m\n\u001b[0;32m----> 2\u001b[0;31m \u001b[0mdf\u001b[0m\u001b[0;34m.\u001b[0m\u001b[0mClose\u001b[0m\u001b[0;34m.\u001b[0m\u001b[0mmin\u001b[0m\u001b[0;34m(\u001b[0m\u001b[0;34m)\u001b[0m\u001b[0;34m\u001b[0m\u001b[0;34m\u001b[0m\u001b[0m\n\u001b[0m",
            "\u001b[0;31mNameError\u001b[0m: name 'df' is not defined"
          ]
        }
      ]
    },
    {
      "cell_type": "markdown",
      "source": [
        "回家練習\n",
        "分析台積電的股價 (2330.tw)。\n",
        "\n",
        "1.下載歷史股價\n",
        "2.分析歷史股價第一筆到最近一筆資料的資產變化情形\n",
        "3.分析2022年自2023年間，從何時切入投資報酬率最大\n",
        "4.繪製台積電收盤價\n"
      ],
      "metadata": {
        "id": "N-lyZKqCplCK"
      }
    },
    {
      "cell_type": "markdown",
      "source": [
        "回家練習\n",
        "分析台積電的股價 (2330.tw)。\n",
        "\n",
        "下載歷史股價\n",
        "分析歷史股價第一筆到最近一筆資料的資產變化情形\n",
        "分析2022年自2023年間，從何時切入投資報酬率最大\n",
        "繪製台積電收盤價"
      ],
      "metadata": {
        "id": "5Dv0-Ye2pc9x"
      }
    }
  ]
}